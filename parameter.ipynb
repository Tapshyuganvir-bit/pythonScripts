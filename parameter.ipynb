{
 "cells": [
  {
   "cell_type": "code",
   "execution_count": 3,
   "id": "b18e5bd6",
   "metadata": {},
   "outputs": [
    {
     "name": "stdout",
     "output_type": "stream",
     "text": [
      "CSV file created: Parameters\\parameters_20251016_172443.csv\n",
      "Excel file created: Parameters\\parameters_20251016_172443.xlsx\n"
     ]
    }
   ],
   "source": [
    "import csv\n",
    "import pandas as pd\n",
    "import random\n",
    "import string\n",
    "from datetime import datetime\n",
    "import os\n",
    "\n",
    "# ==== Create Parameters folder if not exists ====\n",
    "output_folder = \"Parameters\"\n",
    "os.makedirs(output_folder, exist_ok=True)\n",
    "\n",
    "# Function to generate random strings\n",
    "def random_string(length=8):\n",
    "    return ''.join(random.choices(string.ascii_letters + string.digits, k=length))\n",
    "\n",
    "# Function to generate random password\n",
    "def random_password(length=12):\n",
    "    chars = string.ascii_letters + string.digits + \"!@#$%^&*\"\n",
    "    return ''.join(random.choices(chars, k=length))\n",
    "\n",
    "# Function to generate random hostname\n",
    "def random_hostname():\n",
    "    domains = [\"mycompany.com\", \"testenv.net\", \"staging.org\", \"dev.io\"]\n",
    "    return f\"api{random.randint(1,50)}.{random.choice(domains)}\"\n",
    "\n",
    "# Function to generate random log level\n",
    "def random_log_level():\n",
    "    return random.choice([\"DEBUG\", \"INFO\", \"WARN\", \"ERROR\", \"CRITICAL\"])\n",
    "\n",
    "# ==== Generate dynamic parameters ====\n",
    "parameters = [\n",
    "    {\"Parameter_Key\": \"Host\", \"Parameter_Value\": random_hostname()},\n",
    "    {\"Parameter_Key\": \"Port\", \"Parameter_Value\": random.choice([\"80\", \"443\", str(random.randint(3000, 9000))])},\n",
    "    {\"Parameter_Key\": \"Protocol\", \"Parameter_Value\": random.choice([\"HTTP\", \"HTTPS\"])},\n",
    "    {\"Parameter_Key\": \"Database_Name\", \"Parameter_Value\": f\"db_{random_string(5)}\"},\n",
    "    {\"Parameter_Key\": \"DB_User\", \"Parameter_Value\": f\"user_{random_string(6)}\"},\n",
    "    {\"Parameter_Key\": \"DB_Password\", \"Parameter_Value\": random_password(14)},\n",
    "    {\"Parameter_Key\": \"Max_Connections\", \"Parameter_Value\": str(random.randint(50, 500))},\n",
    "    {\"Parameter_Key\": \"Timeout_Seconds\", \"Parameter_Value\": str(random.randint(10, 120))},\n",
    "    {\"Parameter_Key\": \"Enable_Logging\", \"Parameter_Value\": random.choice([\"True\", \"False\"])},\n",
    "    {\"Parameter_Key\": \"Log_Level\", \"Parameter_Value\": random_log_level()}\n",
    "]\n",
    "\n",
    "# ==== Generate unique file names using timestamp ====\n",
    "timestamp = datetime.now().strftime(\"%Y%m%d_%H%M%S\")\n",
    "csv_file = os.path.join(output_folder, f\"parameters_{timestamp}.csv\")\n",
    "excel_file = os.path.join(output_folder, f\"parameters_{timestamp}.xlsx\")\n",
    "\n",
    "# ==== Create CSV file ====\n",
    "with open(csv_file, mode=\"w\", newline=\"\") as file:\n",
    "    writer = csv.DictWriter(file, fieldnames=[\"Parameter_Key\", \"Parameter_Value\"])\n",
    "    writer.writeheader()\n",
    "    writer.writerows(parameters)\n",
    "\n",
    "print(f\"CSV file created: {csv_file}\")\n",
    "\n",
    "# ==== Create Excel file ====\n",
    "df = pd.DataFrame(parameters)\n",
    "df.to_excel(excel_file, index=False)\n",
    "\n",
    "print(f\"Excel file created: {excel_file}\")\n"
   ]
  },
  {
   "cell_type": "code",
   "execution_count": null,
   "id": "e70b2fb1",
   "metadata": {},
   "outputs": [],
   "source": []
  }
 ],
 "metadata": {
  "kernelspec": {
   "display_name": "Python 3",
   "language": "python",
   "name": "python3"
  },
  "language_info": {
   "codemirror_mode": {
    "name": "ipython",
    "version": 3
   },
   "file_extension": ".py",
   "mimetype": "text/x-python",
   "name": "python",
   "nbconvert_exporter": "python",
   "pygments_lexer": "ipython3",
   "version": "3.14.0"
  }
 },
 "nbformat": 4,
 "nbformat_minor": 5
}
