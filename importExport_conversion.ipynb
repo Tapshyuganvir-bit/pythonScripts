{
 "cells": [
  {
   "cell_type": "code",
   "execution_count": null,
   "id": "2fd61dfd",
   "metadata": {},
   "outputs": [],
   "source": [
    "import os\n",
    "import json\n",
    "from collections import defaultdict\n",
    "\n",
    "json_folder_path = r'C:\\Users\\TapshyuGanvir\\Downloads\\export'  \n",
    "grouped_data = defaultdict(list)\n",
    "\n",
    "\n",
    "for filename in os.listdir(json_folder_path):\n",
    "    if filename.endswith('.json'):\n",
    "        file_path = os.path.join(json_folder_path, filename)\n",
    "        \n",
    "        with open(file_path, 'r', encoding='utf-8') as f:\n",
    "            try:\n",
    "                data = json.load(f)\n",
    "\n",
    "             \n",
    "                rule_id = data.get(\"rule\", {}).get(\"id\")\n",
    "                if not rule_id:\n",
    "                    continue  \n",
    "\n",
    "              \n",
    "                connections = data.get(\"connections\", [])\n",
    "                for conn in connections:\n",
    "                    conn_id = conn.get(\"id\")\n",
    "                    connector_id = conn.get(\"connectorId\")\n",
    "                    if conn_id and connector_id:\n",
    "                        grouped_data[rule_id].append({\n",
    "                            \"id\": conn_id,\n",
    "                            \"connectorId\": connector_id\n",
    "                        })\n",
    "\n",
    "            except json.JSONDecodeError as e:\n",
    "                print(f\"❌ Error decoding {filename}: {e}\")\n",
    "\n",
    "\n",
    "final_output = []\n",
    "for rule_id, connections in grouped_data.items():\n",
    "    final_output.append({\n",
    "        \"rule_id\": rule_id,\n",
    "        \"connections\": connections\n",
    "    })\n",
    "\n",
    "\n",
    "output_file_path = os.path.join(json_folder_path, r'C:\\Users\\TapshyuGanvir\\Downloads\\export\\result\\result.json')\n",
    "with open(output_file_path, 'w', encoding='utf-8') as out_f:\n",
    "    json.dump(final_output, out_f, indent=4)\n",
    "\n",
    "print(f\"✅ Grouped data saved to {output_file_path}\")"
   ]
  }
 ],
 "metadata": {
  "language_info": {
   "name": "python"
  }
 },
 "nbformat": 4,
 "nbformat_minor": 5
}
