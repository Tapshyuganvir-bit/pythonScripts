{
 "cells": [
  {
   "cell_type": "code",
   "execution_count": null,
   "id": "3bb1f118",
   "metadata": {},
   "outputs": [],
   "source": [
    "import requests\n",
    "import urllib3\n",
    "from datetime import datetime\n",
    "\n",
    "urllib3.disable_warnings(urllib3.exceptions.InsecureRequestWarning)\n",
    "TOKEN_URL = 'https://192.168.100.81:32222/auth/realms/icedq/protocol/openid-connect/token'\n",
    "token_data = {\n",
    "    'grant_type': 'password',\n",
    "    'client_id': 'icedq.admin-service',\n",
    "    \"client_secret\":'0edc406d-ba4a-477c-96f2-72be355d6d98',\n",
    "    'username': 'tapshyu',\n",
    "    'password': 'Admin@123' \n",
    "}\n",
    "calendar_url = 'https://192.168.100.81:32222/api/v1/calendars'\n",
    "common_headers = {\n",
    "    'accept': 'application/json, text/plain, */*',\n",
    "    'account-id': 'acct-468c8372-9e3c-5c3e-a115-949d07b78dfc',\n",
    "    'content-type': 'application/json',\n",
    "    'org-id': 'org-icedq'\n",
    "}\n",
    "token_response = requests.post(TOKEN_URL, data=token_data, verify=False)\n",
    "if token_response.status_code != 200:\n",
    "    print(f\"❌ Failed to get token: {token_response.text}\")\n",
    "    exit()\n",
    "access_token = token_response.json().get(\"access_token\")\n",
    "if not access_token:\n",
    "    print(\"❌ Token not found in response.\")\n",
    "    exit()\n",
    "headers = {**common_headers, 'authorization': f\"Bearer {access_token}\"}\n",
    "for i in range(1, 21):\n",
    "    timestamp = datetime.now().strftime(\"%Y%m%dT%H%M%S\")\n",
    "    name_value = f\"{i}_{timestamp}\"\n",
    "\n",
    "    payload = {\n",
    "        \"name\": name_value,\n",
    "        \"isDefault\": False,\n",
    "        \"calendarInfo\": {\n",
    "            \"description\": None,\n",
    "            \"holidays\": []\n",
    "        }\n",
    "    }\n",
    "\n",
    "    response = requests.post(calendar_url, headers=headers, json=payload, verify=False)\n",
    "\n",
    "    if response.status_code in [200, 201]:\n",
    "        print(f\"✅ Request {i}: Success - {name_value}\")\n",
    "    else:\n",
    "        print(f\"❌ Request {i}: Failed ({response.status_code}) - {response.text}\")"
   ]
  }
 ],
 "metadata": {
  "language_info": {
   "name": "python"
  }
 },
 "nbformat": 4,
 "nbformat_minor": 5
}
